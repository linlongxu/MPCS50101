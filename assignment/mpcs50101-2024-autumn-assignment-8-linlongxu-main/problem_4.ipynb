{
 "cells": [
  {
   "cell_type": "markdown",
   "metadata": {},
   "source": [
    "# Problem 4\n",
    "----\n",
    "Give the Big-O performance of the following homework problems:\n",
    "- Assignment 2, Problem 5 (Divisibile by 11)\n",
    "- Assignment 3, Problem 3 (encrypt and decrypt)\n",
    "- Assignment 3, Problem 5 (crack the code)\n",
    "- Assignment 4, Problem 5 (greatest common divisor)\n",
    "\n",
    "Support your answers with a succinct written statement.  In addition, please provide the URL to each assignment in you written statement.  For example:\n",
    "```\n",
    "- Assignment 0, problem 0:\n",
    "  - O(N) The algorithm has to observe each member of the list to see if it is true.\n",
    "  - https://github.com/uchicago-codes/MPCS50101-2017-Winter-Sample/blob/master/problem1.py\n",
    "```"
   ]
  },
  {
   "cell_type": "code",
   "execution_count": null,
   "metadata": {},
   "outputs": [],
   "source": [
    "- Assignment 2, Problem 5\n",
    "    #- It involves checking if a number is divisible by 11 by iterating through its digits to compute an alternating sum, resulting in O(logn), where n is the input number.\n",
    "    #- https://github.com/linlongxu/MPCS50101/blob/main/assignment/assignment_2_linlongx/exercise/HM2_Problem5.py\n",
    "\n",
    "- Assignment 3, Problem 3\n",
    "    #- It encrypts or decrypts a message using the Caesar Cipher by processing each character, resulting in O(m), where m is the message length\n",
    "    #- https://github.com/linlongxu/MPCS50101/blob/main/assignment/assignment_3_linlongx/assignment_3_linlongx/exercise/HM3_Problem3.py\n",
    "\n",
    "- Assignment 3, Problem 5\n",
    "    #- It cracks a Caesar Cipher by trying all possible 26 keys, each requiring O(m), making the overall complexity O(m) since 26 is constant\n",
    "    #- https://github.com/linlongxu/MPCS50101/blob/main/assignment/assignment_3_linlongx/assignment_3_linlongx/exercise/HM3_Problem5.py\n",
    "\n",
    "- Assignment 4, Problem 5\n",
    "    #- It calculates the greatest common divisor using the Euclidean algorithm, achieving O(log(min(a,b))), where a and b are the two inputs \n",
    "    #- https://github.com/linlongxu/MPCS50101/blob/main/assignment/assignment_4_linlongx/HM4_Problem5.py"
   ]
  }
 ],
 "metadata": {
  "language_info": {
   "codemirror_mode": {
    "name": "ipython",
    "version": 3
   },
   "file_extension": ".py",
   "mimetype": "text/x-python",
   "name": "python",
   "nbconvert_exporter": "python",
   "pygments_lexer": "ipython3",
   "version": 3
  },
  "orig_nbformat": 2
 },
 "nbformat": 4,
 "nbformat_minor": 2
}
