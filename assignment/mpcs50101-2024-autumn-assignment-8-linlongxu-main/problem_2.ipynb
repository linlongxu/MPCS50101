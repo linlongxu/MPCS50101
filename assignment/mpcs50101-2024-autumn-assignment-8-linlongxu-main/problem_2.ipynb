{
 "cells": [
  {
   "cell_type": "markdown",
   "metadata": {},
   "source": [
    "# Problem 2 - Big-O Notation of Human Algorithms\n",
    "----\n",
    "What is the time complexity, in big-O notation, of the following algorithms?\n",
    "  * Selecting the next best move in a game of tic tac toe.\n",
    "  * Reading a book, where `n` is the number of pages.\n",
    "  * Compiling a telephone or address book from a list of names/numbers.\n",
    "  * Determining if a number is odd or even.\n",
    "  * Finding a word in the dictionary.\n",
    "  * Checking if you have put all the items on your packing list in your suitcase."
   ]
  },
  {
   "cell_type": "markdown",
   "metadata": {},
   "source": [
    "Answer here..."
   ]
  },
  {
   "cell_type": "code",
   "execution_count": null,
   "metadata": {},
   "outputs": [],
   "source": [
    "# Selecting the next best move in a game of tic tac toe.\n",
    "O(0) - Constant time\n",
    "\n",
    "# Reading a book, where `n` is the number of pages.\n",
    "O(1) Linear time\n",
    "\n",
    "# Compiling a telephone or address book from a list of names/numbers.\n",
    "O(nlogn) — If sorting is required.\n",
    "O(n) — Without sorting.\n",
    "\n",
    "# Determining if a number is odd or even.\n",
    "O(1) — Constant time.\n",
    "\n",
    "# Finding a word in the dictionary.\n",
    "O(logn) — Logarithmic time\n",
    "\n",
    "# Checking if you have put all the items on your packing list in your suitcase.\n",
    "O(n) — Linear time."
   ]
  }
 ],
 "metadata": {
  "kernelspec": {
   "display_name": "Python 3.7.5 64-bit ('anaconda3': virtualenv)",
   "name": "python37564bitanaconda3virtualenv9f4dfbb167384045848833e25d52f015"
  },
  "language_info": {
   "codemirror_mode": {
    "name": "ipython",
    "version": 3
   },
   "file_extension": ".py",
   "mimetype": "text/x-python",
   "name": "python",
   "nbconvert_exporter": "python",
   "pygments_lexer": "ipython3",
   "version": "3.7.5-final"
  },
  "orig_nbformat": 2
 },
 "nbformat": 4,
 "nbformat_minor": 2
}
