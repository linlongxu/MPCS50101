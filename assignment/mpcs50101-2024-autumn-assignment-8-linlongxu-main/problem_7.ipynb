{
 "cells": [
  {
   "cell_type": "markdown",
   "metadata": {},
   "source": [
    "# Problem 7 - Timing Jupyter Notebooks\n",
    "----\n",
    "\n",
    "\n",
    "Implement an object oriented countdown timer using a `context manager` inside a Notebook.  Prompt the user for input of a time (in seconds), print out the countdown and then conclude with \"BLASTOFF!\".\n",
    "\n",
    "Follow the exammple below: \n",
    "\n",
    "```\n",
    "> Enter the time to countdown: 5\n",
    "5\n",
    "4\n",
    "3\n",
    "2\n",
    "1\n",
    "BLASTOFF!\n",
    "```\n",
    "\n",
    "Note that taking user input in a Jupyter Notebook is different than from the command line."
   ]
  },
  {
   "cell_type": "code",
   "execution_count": 1,
   "metadata": {},
   "outputs": [
    {
     "name": "stdout",
     "output_type": "stream",
     "text": [
      "Starting countdown from 8 seconds!\n",
      "8\n",
      "7\n",
      "6\n",
      "5\n",
      "4\n",
      "3\n",
      "2\n",
      "1\n",
      "BLASTOFF!\n"
     ]
    }
   ],
   "source": [
    "import time\n",
    "\n",
    "class CountdownTimer:\n",
    "    def __init__(self, seconds):\n",
    "        self.seconds = seconds\n",
    "\n",
    "    def __enter__(self):\n",
    "        print(f\"Starting countdown from {self.seconds} seconds!\")\n",
    "        return self\n",
    "\n",
    "    def __exit__(self, exc_type, exc_value, traceback):\n",
    "        print(\"BLASTOFF!\")\n",
    "\n",
    "    def start(self):\n",
    "        for second in range(self.seconds, 0, -1):\n",
    "            print(second)\n",
    "            time.sleep(1)\n",
    "\n",
    "# Prompt the user for input\n",
    "try:\n",
    "    user_input = int(input(\"Enter the time to countdown (in seconds): \"))\n",
    "    if user_input < 0:\n",
    "        raise ValueError(\"Please enter a positive integer for the countdown.\")\n",
    "except ValueError as e:\n",
    "    print(f\"Invalid input: {e}\")\n",
    "else:\n",
    "    # Use the CountdownTimer context manager\n",
    "    with CountdownTimer(user_input) as timer:\n",
    "        timer.start()"
   ]
  }
 ],
 "metadata": {
  "kernelspec": {
   "display_name": "base",
   "language": "python",
   "name": "python3"
  },
  "language_info": {
   "codemirror_mode": {
    "name": "ipython",
    "version": 3
   },
   "file_extension": ".py",
   "mimetype": "text/x-python",
   "name": "python",
   "nbconvert_exporter": "python",
   "pygments_lexer": "ipython3",
   "version": "3.12.4"
  },
  "orig_nbformat": 2
 },
 "nbformat": 4,
 "nbformat_minor": 2
}
