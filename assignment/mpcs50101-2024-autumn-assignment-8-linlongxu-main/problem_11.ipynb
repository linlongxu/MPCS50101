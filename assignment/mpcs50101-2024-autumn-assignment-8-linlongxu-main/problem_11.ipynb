{
 "cells": [
  {
   "cell_type": "markdown",
   "metadata": {},
   "source": [
    "\n",
    "# Problem 11 - Anagrams\n",
    "----\n",
    "An anagram of a word is when a second is simply a rearrangement of the first. For example, 'heart' and 'earth' are anagrams. The strings 'python' and 'typhon' are anagrams as well. \n",
    "\n",
    "Write a function that determines if two strings are anagrams. If they are return `True` else return `False`.\n",
    "\n",
    "As discussed, there are many different approaches to accomplishing this task. In order to receive full-credit, you solution should be `O(n)`."
   ]
  },
  {
   "cell_type": "code",
   "execution_count": 6,
   "metadata": {},
   "outputs": [],
   "source": [
    "def anagram(word1, word2):\n",
    "    \"\"\"Check if two strings are anagrams.\"\"\"\n",
    "    # Clean the inputs by removing spaces and converting to lowercase\n",
    "    word1 = word1.replace(\" \", \"\").lower()\n",
    "    word2 = word2.replace(\" \", \"\").lower()\n",
    "\n",
    "    # Early exit if lengths differ\n",
    "    if len(word1) != len(word2):\n",
    "        return False\n",
    "\n",
    "    # Count character frequencies using dictionaries\n",
    "    count1 = {}\n",
    "    count2 = {}\n",
    "\n",
    "    for char in word1:\n",
    "        count1[char] = count1.get(char, 0) + 1\n",
    "\n",
    "    for char in word2:\n",
    "        count2[char] = count2.get(char, 0) + 1\n",
    "\n",
    "    # Compare frequency dictionaries\n",
    "    return count1 == count2"
   ]
  },
  {
   "cell_type": "code",
   "execution_count": 7,
   "metadata": {},
   "outputs": [],
   "source": [
    "# Test your function with an `assert` statements\n",
    "assert anagram('python', 'typhon') == True\n",
    "assert anagram('night', 'thing') == True\n",
    "assert anagram('dog', 'cat') == False\n",
    "assert anagram('sweep the floor', 'too few helpers') == True\n",
    "assert anagram('coins kept', 'in pockets') == True"
   ]
  },
  {
   "cell_type": "code",
   "execution_count": null,
   "metadata": {},
   "outputs": [],
   "source": []
  }
 ],
 "metadata": {
  "kernelspec": {
   "display_name": "base",
   "language": "python",
   "name": "python3"
  },
  "language_info": {
   "codemirror_mode": {
    "name": "ipython",
    "version": 3
   },
   "file_extension": ".py",
   "mimetype": "text/x-python",
   "name": "python",
   "nbconvert_exporter": "python",
   "pygments_lexer": "ipython3",
   "version": "3.12.4"
  },
  "orig_nbformat": 2
 },
 "nbformat": 4,
 "nbformat_minor": 2
}
