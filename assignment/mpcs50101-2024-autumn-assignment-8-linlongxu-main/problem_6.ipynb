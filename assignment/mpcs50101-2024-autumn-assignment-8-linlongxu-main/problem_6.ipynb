{
 "cells": [
  {
   "cell_type": "markdown",
   "metadata": {},
   "source": [
    "# Problem 6 - Pickle is a 14 Point Word\n",
    "----\n",
    "Create a pickled list of all the [allowed Scrabble words](assets/scrabble_list.txt). \n",
    "\n",
    "Using your Scrabble `Word` classes created in previous assignment, create a `Word` object for each allowed word in the `scrabble_list.txt` file. Add each instance of you `Word` object to a list and then pickle that list to a file named `scrabble_list.pickle`.\n",
    "\n",
    "One of the advantages of Pickling is that the binary data format is supposed to be faster to read in and process. Compare the time to read in the text file and convert to `Word` objects versus reading in the pickled file. \n",
    "\n"
   ]
  },
  {
   "cell_type": "code",
   "execution_count": 5,
   "metadata": {},
   "outputs": [],
   "source": [
    "import pickle\n",
    "import time\n",
    "\n",
    "class Word:\n",
    "    def __init__(self, word):\n",
    "        self.word = word\n",
    "        self.length = len(word)\n",
    "        self.score = sum(self.get_letter_score(letter) for letter in word)\n",
    "\n",
    "    def get_letter_score(self, letter):\n",
    "        scrabble_scores = {\n",
    "            'A': 1, 'B': 3, 'C': 3, 'D': 2, 'E': 1,\n",
    "            'F': 4, 'G': 2, 'H': 4, 'I': 1, 'J': 8,\n",
    "            'K': 5, 'L': 1, 'M': 3, 'N': 1, 'O': 1,\n",
    "            'P': 3, 'Q': 10, 'R': 1, 'S': 1, 'T': 1,\n",
    "            'U': 1, 'V': 4, 'W': 4, 'X': 8, 'Y': 4, 'Z': 10\n",
    "        }\n",
    "        return scrabble_scores.get(letter.upper(), 0)\n",
    "\n",
    "# Step 1: Create a list of Word\n",
    "start_text = time.time()\n",
    "words = []\n",
    "with open(\"scrabble_list.txt\", \"r\") as file:\n",
    "    for line in file:\n",
    "        word = line.strip()\n",
    "        words.append(Word(word))\n",
    "end_text = time.time()\n",
    "\n",
    "# Step 2: Pickle the list\n",
    "with open(\"scrabble_list.pickle\", \"wb\") as pickle_file:\n",
    "    pickle.dump(words, pickle_file)"
   ]
  },
  {
   "cell_type": "markdown",
   "metadata": {},
   "source": [
    "For this data set, does this seem to be accurate? Do you think that a larger word list would change your answer?"
   ]
  },
  {
   "cell_type": "code",
   "execution_count": 6,
   "metadata": {},
   "outputs": [
    {
     "name": "stdout",
     "output_type": "stream",
     "text": [
      "Time to read from text file and process: 0.49921 seconds\n",
      "Time to read from pickled file: 0.09360 seconds\n"
     ]
    }
   ],
   "source": [
    "# Reading from the pickled file\n",
    "start_pickle = time.time()\n",
    "with open(\"scrabble_list.pickle\", \"rb\") as pickle_file:\n",
    "    pickled_words = pickle.load(pickle_file)\n",
    "end_pickle = time.time()\n",
    "\n",
    "# Compare times\n",
    "print(f\"Time to read from text file and process: {end_text - start_text:.5f} seconds\")\n",
    "print(f\"Time to read from pickled file: {end_pickle - start_pickle:.5f} seconds\")"
   ]
  }
 ],
 "metadata": {
  "kernelspec": {
   "display_name": "base",
   "language": "python",
   "name": "python3"
  },
  "language_info": {
   "codemirror_mode": {
    "name": "ipython",
    "version": 3
   },
   "file_extension": ".py",
   "mimetype": "text/x-python",
   "name": "python",
   "nbconvert_exporter": "python",
   "pygments_lexer": "ipython3",
   "version": "3.12.4"
  },
  "orig_nbformat": 2
 },
 "nbformat": 4,
 "nbformat_minor": 2
}
