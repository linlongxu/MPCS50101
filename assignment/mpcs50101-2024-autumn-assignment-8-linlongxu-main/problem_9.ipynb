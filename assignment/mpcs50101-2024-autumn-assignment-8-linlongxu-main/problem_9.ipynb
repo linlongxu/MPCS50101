{
 "cells": [
  {
   "cell_type": "markdown",
   "metadata": {},
   "source": [
    "# Problem 9 - Scrabble Word Length Bias\n",
    "----\n",
    "In a previous assignment you created a Scrabble word generator that takes a rack of letters and shows all the possible words that can be created. What is the efficiency, in big-O notation, of your solution?\n"
   ]
  },
  {
   "cell_type": "code",
   "execution_count": null,
   "metadata": {},
   "outputs": [],
   "source": [
    "#The efficiency of the Scrabble word generator is expressed as O(n!⋅c), where n is the number of letters \n",
    "#in the rack and c is the constant time to check a word against the dictionary. The factorial term arises \n",
    "#because the program generates all permutations of the given rack, and the time complexity grows rapidly with n."
   ]
  },
  {
   "cell_type": "markdown",
   "metadata": {},
   "source": [
    "Write a program that randomly selects 7 letters and computes the time it takes to compute all the valid words for each possible word length. Run your program 10 times and plot out the results for each random set of letters.\n",
    "\n",
    "The plots should look similar to the following:\n",
    "\n",
    "![](images/plot_9.png)"
   ]
  },
  {
   "cell_type": "code",
   "execution_count": null,
   "metadata": {},
   "outputs": [],
   "source": [
    "import time\n",
    "import random\n",
    "import itertools\n",
    "import matplotlib.pyplot as plt\n",
    "\n",
    "# Sample dictionary of valid words\n",
    "VALID_WORDS = {\"cat\", \"dog\", \"bird\", \"car\", \"care\", \"race\", \"ace\", \"card\"}\n",
    "\n",
    "# Function to generate valid words from a rack\n",
    "def generate_words(rack):\n",
    "    results = []\n",
    "    for length in range(1, len(rack) + 1):\n",
    "        for combo in itertools.permutations(rack, length):\n",
    "            word = ''.join(combo)\n",
    "            if word in VALID_WORDS:\n",
    "                results.append(word)\n",
    "    return results\n",
    "\n",
    "# Run the experiment\n",
    "def experiment():\n",
    "    times = {length: [] for length in range(1, 8)}\n",
    "    for _ in range(10):\n",
    "        rack = [random.choice(\"ABCDEFGHIJKLMNOPQRSTUVWXYZ\") for _ in range(7)]\n",
    "        print(f\"Rack: {''.join(rack)}\")\n",
    "        \n",
    "        for length in range(1, 8):\n",
    "            start_time = time.time()\n",
    "            generate_words(rack[:length])\n",
    "            end_time = time.time()\n",
    "            times[length].append(end_time - start_time)\n",
    "    \n",
    "    return times\n",
    "\n",
    "# Plot\n",
    "def plot_results(times):\n",
    "    averages = {length: sum(times[length]) / len(times[length]) for length in times}\n",
    "    plt.bar(averages.keys(), averages.values(), color=\"skyblue\")\n",
    "    plt.xlabel(\"Word Length\")\n",
    "    plt.ylabel(\"Time (seconds)\")\n",
    "    plt.title(\"Runtime by Word Length\")\n",
    "    plt.show()\n",
    "\n",
    "# Execute\n",
    "times = experiment()\n",
    "plot_results(times)"
   ]
  },
  {
   "cell_type": "markdown",
   "metadata": {},
   "source": [
    "Do the specific letters that are in your rack affect the efficiency of your solution? Do they impact the actual runtime? How can can you design an experiment to verify this? Run your experiment and provide evidence to support your claim."
   ]
  },
  {
   "cell_type": "code",
   "execution_count": null,
   "metadata": {},
   "outputs": [],
   "source": [
    "# The specific letters in the rack significantly influence the actual runtime. For racks with repetitive \n",
    "# letters, the number of unique permutations decreases, reducing the computational effort required to generate \n",
    "# permutations. Conversely, racks with unique, common letters like \"CAT\" generate a higher number of valid \n",
    "# permutations, leading to longer runtimes as more matches are found in the dictionary. Racks with rare \n",
    "# letters, such as \"XYZ,\" also generate a similar number of permutations, but fewer matches are found, \n",
    "# slightly reducing the overall runtime. "
   ]
  }
 ],
 "metadata": {
  "kernelspec": {
   "display_name": "Python 3.7.5 64-bit ('anaconda3': virtualenv)",
   "name": "python37564bitanaconda3virtualenv9f4dfbb167384045848833e25d52f015"
  },
  "language_info": {
   "codemirror_mode": {
    "name": "ipython",
    "version": 3
   },
   "file_extension": ".py",
   "mimetype": "text/x-python",
   "name": "python",
   "nbconvert_exporter": "python",
   "pygments_lexer": "ipython3",
   "version": "3.7.5-final"
  },
  "orig_nbformat": 2
 },
 "nbformat": 4,
 "nbformat_minor": 2
}
