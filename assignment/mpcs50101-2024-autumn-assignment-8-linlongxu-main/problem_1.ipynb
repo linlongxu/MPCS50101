{
 "cells": [
  {
   "cell_type": "markdown",
   "metadata": {},
   "source": [
    "# Problem 1 - Big-O Notation of Code Snippets\n",
    "----\n",
    "Given the following code fragments, what is the Big-O running time? One of this is not as straight forward as it seems.\n",
    "\n",
    "A.\n",
    "```python\n",
    "test = 0\n",
    "for i in range(n):\n",
    "   for j in range(n):\n",
    "      test = test + i * j\n",
    "```\n",
    "\n",
    "B. \n",
    "```python\n",
    "test = 0\n",
    "for i in range(n):\n",
    "   test = test + 1\n",
    "\n",
    "for j in range(n):\n",
    "   test = test - 1\n",
    "```\n",
    "\n",
    "C. \n",
    "```python\n",
    "i = n\n",
    "while i > 0:\n",
    "   k = 2 + 2\n",
    "   i = i / 2\n",
    "```\n"
   ]
  },
  {
   "cell_type": "markdown",
   "metadata": {},
   "source": [
    "A. O(n**2) — Nested loops\n",
    "\n",
    "B. O(n) — Sequential loops\n",
    "\n",
    "C. O(logn) — Logarithmic due to halving in the while loop"
   ]
  }
 ],
 "metadata": {
  "kernelspec": {
   "display_name": "Python 3.7.5 64-bit ('anaconda3': virtualenv)",
   "name": "python37564bitanaconda3virtualenv9f4dfbb167384045848833e25d52f015"
  },
  "language_info": {
   "codemirror_mode": {
    "name": "ipython",
    "version": 3
   },
   "file_extension": ".py",
   "mimetype": "text/x-python",
   "name": "python",
   "nbconvert_exporter": "python",
   "pygments_lexer": "ipython3",
   "version": "3.7.5-final"
  },
  "orig_nbformat": 2
 },
 "nbformat": 4,
 "nbformat_minor": 2
}
