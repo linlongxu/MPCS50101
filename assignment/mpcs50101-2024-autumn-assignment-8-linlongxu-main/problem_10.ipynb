{
 "cells": [
  {
   "cell_type": "markdown",
   "metadata": {},
   "source": [
    "# Problem 10 - Palindrome Do-Over\n",
    "----\n",
    "In  Assignment 2, Problem 6, you were asked you to write an algorithm for identifying if a given word was a palindrome.\n"
   ]
  },
  {
   "cell_type": "code",
   "execution_count": null,
   "metadata": {},
   "outputs": [
    {
     "name": "stdout",
     "output_type": "stream",
     "text": [
      "It is palindrome.\n",
      "It isn't palindrome.\n",
      "It is palindrome.\n",
      "It is palindrome.\n",
      "Please enter a valid word or phrase.\n",
      "It is palindrome.\n",
      "It is palindrome.\n",
      "It is palindrome.\n",
      "It is palindrome.\n",
      "It is palindrome.\n",
      "It is palindrome.\n",
      "It is palindrome.\n",
      "It is palindrome.\n",
      "It is palindrome.\n",
      "It is palindrome.\n",
      "It is palindrome.\n",
      "It is palindrome.\n",
      "It is palindrome.\n",
      "It is palindrome.\n",
      "It is palindrome.\n"
     ]
    }
   ],
   "source": [
    "# Copy your original implementation here\n",
    "#Problem 6\n",
    "P_6 = True\n",
    "while P_6:\n",
    "    try:\n",
    "        word_phrase = input(\"Please enter a word or phrase: \")\n",
    "        clean_word_phrase = word_phrase.lower()\n",
    "\n",
    "        if any(char.isdigit() or char.isspace() for char in word_phrase):\n",
    "            raise ValueError(\"Input contains numbers or spaces, which are not allowed.\")\n",
    "\n",
    "        i = 0\n",
    "        n = len(clean_word_phrase) - 1\n",
    "\n",
    "        is_palindromes = True\n",
    "\n",
    "        while i < n:\n",
    "            if clean_word_phrase[i] != clean_word_phrase[n]:\n",
    "                is_palindromes = False\n",
    "                break\n",
    "            i += 1\n",
    "            n -= 1\n",
    "\n",
    "        if is_palindromes:\n",
    "            print (\"It is palindrome.\")\n",
    "        else:\n",
    "            print (\"It isn't palindrome.\")\n",
    "\n",
    "    except Exception:\n",
    "        print(\"Please enter a valid word or phrase.\")"
   ]
  },
  {
   "cell_type": "code",
   "execution_count": null,
   "metadata": {},
   "outputs": [],
   "source": [
    "# Example running original\n",
    "# Madam / Hello"
   ]
  },
  {
   "cell_type": "markdown",
   "metadata": {},
   "source": [
    "What is the Big-O time complexity of your original solution?"
   ]
  },
  {
   "cell_type": "code",
   "execution_count": null,
   "metadata": {},
   "outputs": [],
   "source": [
    "# The time complexity of the original solution is O(n), where n is the length of the input string. This \n",
    "# complexity arises from the linear traversal of the string for both the conversion to lowercase and the while\n",
    "# loop for character-by-character comparison."
   ]
  },
  {
   "cell_type": "markdown",
   "metadata": {},
   "source": [
    "Use all of your newly acquired computational thinking practices and skills, write a solution that is more efficient than your original solution (if possible)."
   ]
  },
  {
   "cell_type": "code",
   "execution_count": 1,
   "metadata": {},
   "outputs": [
    {
     "name": "stdout",
     "output_type": "stream",
     "text": [
      "It is palindrome.\n",
      "It isn't palindrome.\n"
     ]
    }
   ],
   "source": [
    "# New implmentation\n",
    "def is_palindrome(word):\n",
    "    \"\"\"Check if the word is a palindrome.\"\"\"\n",
    "    try:\n",
    "        if any(char.isdigit() or char.isspace() for char in word):\n",
    "            raise ValueError(\"Input contains numbers or spaces, which are not allowed.\")\n",
    "        \n",
    "        clean_word = word.lower()  # Normalize input\n",
    "        if clean_word == clean_word[::-1]:  # Compare with reversed version\n",
    "            return \"It is palindrome.\"\n",
    "        else:\n",
    "            return \"It isn't palindrome.\"\n",
    "    except Exception as e:\n",
    "        return str(e)\n"
   ]
  },
  {
   "cell_type": "code",
   "execution_count": 2,
   "metadata": {},
   "outputs": [],
   "source": [
    "# Example running new\n",
    "print(is_palindrome(\"Madam\"))\n",
    "print(is_palindrome(\"Hello\"))"
   ]
  },
  {
   "cell_type": "markdown",
   "metadata": {},
   "source": [
    "What is the Big-O time complexity of your new solution?"
   ]
  },
  {
   "cell_type": "code",
   "execution_count": null,
   "metadata": {},
   "outputs": [],
   "source": [
    "# The time complexity of the new solution is O(n), where n is the length of the input string. This complexity \n",
    "# comes from creating the reversed string and performing the equality comparison, both of which require linear \n",
    "# time."
   ]
  }
 ],
 "metadata": {
  "kernelspec": {
   "display_name": "base",
   "language": "python",
   "name": "python3"
  },
  "language_info": {
   "codemirror_mode": {
    "name": "ipython",
    "version": 3
   },
   "file_extension": ".py",
   "mimetype": "text/x-python",
   "name": "python",
   "nbconvert_exporter": "python",
   "pygments_lexer": "ipython3",
   "version": "3.12.4"
  },
  "orig_nbformat": 2
 },
 "nbformat": 4,
 "nbformat_minor": 2
}
